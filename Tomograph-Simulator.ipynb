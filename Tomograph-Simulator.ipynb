{
 "cells": [
  {
   "cell_type": "markdown",
   "metadata": {},
   "source": [
    "# Tomograph Simulator\n",
    "<font color='gray'>IT in Medicine task - implementation of the application simulating the computer tomograph (two-dimensional symulation)</font>\n",
    "\n"
   ]
  },
  {
   "cell_type": "markdown",
   "metadata": {},
   "source": [
    "### Completing the program parameters\n",
    "<font color='gray'>Enter image filename with path if file's in different directory . Set up angular extent, detectors number and iterations number. </font>"
   ]
  },
  {
   "cell_type": "code",
   "execution_count": 68,
   "metadata": {},
   "outputs": [],
   "source": [
    "%matplotlib inline\n",
    "%run extern_func.ipynb\n",
    "%run Sinogram_class.ipynb\n",
    "\n",
    "from bresenham import bresenham\n",
    "import cv2\n",
    "from IPython.display import Markdown\n",
    "import numpy as np\n",
    "import math\n",
    "import matplotlib.pyplot as plt\n",
    "import os\n",
    "from PIL import Image, ImageOps, ImageEnhance\n",
    "import pydicom\n",
    "from pydicom import dcmread\n",
    "from pydicom.dataset import Dataset, FileDataset\n",
    "from scipy import ndimage, fftpack\n",
    "from scipy.ndimage.filters import convolve, gaussian_filter\n",
    "import tempfile"
   ]
  },
  {
   "cell_type": "code",
   "execution_count": 69,
   "metadata": {},
   "outputs": [
    {
     "data": {
      "application/vnd.jupyter.widget-view+json": {
       "model_id": "b34feba42443458f936dcb8488381221",
       "version_major": 2,
       "version_minor": 0
      },
      "text/plain": [
       "HBox(children=(VBox(children=(Text(value='img/Shepp_logan.jpg', description='filename', layout=Layout(width='3…"
      ]
     },
     "metadata": {},
     "output_type": "display_data"
    }
   ],
   "source": [
    "sinogram = Tomograph()\n",
    "display(interactive_full_box)"
   ]
  },
  {
   "cell_type": "code",
   "execution_count": 70,
   "metadata": {},
   "outputs": [
    {
     "data": {
      "application/vnd.jupyter.widget-view+json": {
       "model_id": "942d1a3bb0f54cf69b167c18dde70597",
       "version_major": 2,
       "version_minor": 0
      },
      "text/plain": [
       "Button(description='Show image', style=ButtonStyle(button_color='lightpink'))"
      ]
     },
     "metadata": {},
     "output_type": "display_data"
    }
   ],
   "source": [
    "display(show_button)"
   ]
  },
  {
   "cell_type": "markdown",
   "metadata": {},
   "source": [
    "### Tomograph symulating part\n",
    "<font color='gray'> Generate the sinogram and reverse it to recreate the original image. </font>"
   ]
  },
  {
   "cell_type": "code",
   "execution_count": 71,
   "metadata": {},
   "outputs": [
    {
     "data": {
      "application/vnd.jupyter.widget-view+json": {
       "model_id": "decfb41b3eb042368c3a028a4a97ffcb",
       "version_major": 2,
       "version_minor": 0
      },
      "text/plain": [
       "Button(description='Generate sinogram', style=ButtonStyle(button_color='lightpink'))"
      ]
     },
     "metadata": {},
     "output_type": "display_data"
    },
    {
     "data": {
      "image/png": "[encoded data removed]",
      "text/plain": [
       "<Figure size 432x432 with 1 Axes>"
      ]
     },
     "metadata": {
      "needs_background": "light"
     },
     "output_type": "display_data"
    }
   ],
   "source": [
    "display(generate_sinogram_button)"
   ]
  },
  {
   "cell_type": "code",
   "execution_count": 72,
   "metadata": {},
   "outputs": [
    {
     "data": {
      "application/vnd.jupyter.widget-view+json": {
       "model_id": "5ff880d3888f483cacaf1cc00126584b",
       "version_major": 2,
       "version_minor": 0
      },
      "text/plain": [
       "Button(description='Reconstruct image', style=ButtonStyle(button_color='lightpink'))"
      ]
     },
     "metadata": {},
     "output_type": "display_data"
    }
   ],
   "source": [
    "display(reverse_sinogram_button)"
   ]
  },
  {
   "cell_type": "markdown",
   "metadata": {},
   "source": [
    "### Processing results part\n",
    "\n",
    "<font color='gray'> Save output images as dicom and jpg files </font>"
   ]
  },
  {
   "cell_type": "code",
   "execution_count": 73,
   "metadata": {},
   "outputs": [
    {
     "data": {
      "application/vnd.jupyter.widget-view+json": {
       "model_id": "f1123d2f3c7c48168a0a324e9c94a9f4",
       "version_major": 2,
       "version_minor": 0
      },
      "text/plain": [
       "VBox(children=(Text(value='John Doe', description=\"Patient's name\", style=DescriptionStyle(description_width='…"
      ]
     },
     "metadata": {},
     "output_type": "display_data"
    }
   ],
   "source": [
    "display(dicom_box)"
   ]
  },
  {
   "cell_type": "code",
   "execution_count": 67,
   "metadata": {},
   "outputs": [
    {
     "data": {
      "application/vnd.jupyter.widget-view+json": {
       "model_id": "1d4622e5cc2a477593af9fc5cf728c90",
       "version_major": 2,
       "version_minor": 0
      },
      "text/plain": [
       "Button(description='Save results as jpg', style=ButtonStyle(button_color='lightpink'))"
      ]
     },
     "metadata": {},
     "output_type": "display_data"
    }
   ],
   "source": [
    "display(save_results_button)"
   ]
  },
  {
   "cell_type": "code",
   "execution_count": 52,
   "metadata": {},
   "outputs": [
    {
     "data": {
      "text/markdown": [
       "<span style=\"color: #3599b8\">Process every image from default directory in every configuration of parameters</span>"
      ],
      "text/plain": [
       "<IPython.core.display.Markdown object>"
      ]
     },
     "metadata": {},
     "output_type": "display_data"
    },
    {
     "data": {
      "application/vnd.jupyter.widget-view+json": {
       "model_id": "9070f65b5b51490fa2ed2962ae70fdb1",
       "version_major": 2,
       "version_minor": 0
      },
      "text/plain": [
       "Button(description='Process every image', style=ButtonStyle(button_color='lightblue'))"
      ]
     },
     "metadata": {},
     "output_type": "display_data"
    }
   ],
   "source": [
    "display(process_warning)\n",
    "display(process_every_image_button)"
   ]
  },
  {
   "cell_type": "code",
   "execution_count": null,
   "metadata": {},
   "outputs": [],
   "source": []
  },
  {
   "cell_type": "code",
   "execution_count": null,
   "metadata": {},
   "outputs": [],
   "source": []
  },
  {
   "cell_type": "code",
   "execution_count": null,
   "metadata": {},
   "outputs": [],
   "source": []
  },
  {
   "cell_type": "code",
   "execution_count": null,
   "metadata": {},
   "outputs": [],
   "source": []
  },
  {
   "cell_type": "code",
   "execution_count": null,
   "metadata": {},
   "outputs": [],
   "source": []
  }
 ],
 "metadata": {
  "kernelspec": {
   "display_name": "Python 3",
   "language": "python",
   "name": "python3"
  },
  "language_info": {
   "codemirror_mode": {
    "name": "ipython",
    "version": 3
   },
   "file_extension": ".py",
   "mimetype": "text/x-python",
   "name": "python",
   "nbconvert_exporter": "python",
   "pygments_lexer": "ipython3",
   "version": "3.7.4"
  }
 },
 "nbformat": 4,
 "nbformat_minor": 2
}
